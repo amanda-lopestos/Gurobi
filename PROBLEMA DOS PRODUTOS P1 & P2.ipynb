{
 "cells": [
  {
   "cell_type": "code",
   "execution_count": 1,
   "metadata": {},
   "outputs": [],
   "source": [
    "import gurobipy as gp"
   ]
  },
  {
   "cell_type": "code",
   "execution_count": 2,
   "metadata": {},
   "outputs": [],
   "source": [
    "from gurobipy import GRB"
   ]
  },
  {
   "cell_type": "code",
   "execution_count": 3,
   "metadata": {},
   "outputs": [
    {
     "name": "stdout",
     "output_type": "stream",
     "text": [
      "Using license file C:\\Users\\amand\\gurobi.lic\n",
      "Academic license - for non-commercial use only - expires 2021-01-16\n",
      "Gurobi Optimizer version 9.1.0 build v9.1.0rc0 (win64)\n",
      "Thread count: 2 physical cores, 4 logical processors, using up to 4 threads\n",
      "Optimize a model with 3 rows, 2 columns and 4 nonzeros\n",
      "Model fingerprint: 0x89cb58fe\n",
      "Variable types: 0 continuous, 2 integer (0 binary)\n",
      "Coefficient statistics:\n",
      "  Matrix range     [1e+00, 3e+00]\n",
      "  Objective range  [1e+02, 2e+02]\n",
      "  Bounds range     [0e+00, 0e+00]\n",
      "  RHS range        [3e+01, 1e+02]\n",
      "Found heuristic solution: objective 5950.0000000\n",
      "Presolve removed 3 rows and 2 columns\n",
      "Presolve time: 0.10s\n",
      "Presolve: All rows and columns removed\n",
      "\n",
      "Explored 0 nodes (0 simplex iterations) in 0.13 seconds\n",
      "Thread count was 1 (of 4 available processors)\n",
      "\n",
      "Solution count 2: 6000 \n",
      "\n",
      "Optimal solution found (tolerance 1.00e-04)\n",
      "Best objective 6.000000000000e+03, best bound 6.000000000000e+03, gap 0.0000%\n",
      "x 39\n",
      "y 14\n",
      "Obj: 6000\n"
     ]
    }
   ],
   "source": [
    "'''criando o modelo'''\n",
    "\n",
    "m = gp.Model(\"Produtos P1 & P2\")\n",
    "\n",
    "\n",
    "'''criando as variáveis'''\n",
    "x = m.addVar(vtype=GRB.INTEGER, name=\"x\")\n",
    "y = m.addVar(vtype=GRB.INTEGER, name=\"y\")\n",
    "\n",
    "'''adicionando o objetivo'''\n",
    "m.setObjective(100*x+150*y, GRB.MAXIMIZE)\n",
    "\n",
    "'''restrição: x + y >= 1''' \n",
    "m.addConstr(2 * x + 3 * y <= 120, \"c0\")\n",
    "\n",
    "'''restrição: x + y >= 1'''\n",
    "m.addConstr(x <= 40, \"c1\")\n",
    "m.addConstr(y <= 30, \"c2\")\n",
    "\n",
    "m.optimize()\n",
    "\n",
    "for v in m.getVars():\n",
    "    print('%s %g' % (v.varName, v.x))\n",
    "\n",
    "print('Obj: %g' % m.objVal)\n"
   ]
  },
  {
   "cell_type": "code",
   "execution_count": null,
   "metadata": {},
   "outputs": [],
   "source": []
  }
 ],
 "metadata": {
  "kernelspec": {
   "display_name": "Python 3",
   "language": "python",
   "name": "python3"
  },
  "language_info": {
   "codemirror_mode": {
    "name": "ipython",
    "version": 3
   },
   "file_extension": ".py",
   "mimetype": "text/x-python",
   "name": "python",
   "nbconvert_exporter": "python",
   "pygments_lexer": "ipython3",
   "version": "3.8.3"
  }
 },
 "nbformat": 4,
 "nbformat_minor": 4
}
