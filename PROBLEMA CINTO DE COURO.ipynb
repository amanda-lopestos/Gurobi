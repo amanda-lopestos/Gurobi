{
 "cells": [
  {
   "cell_type": "code",
   "execution_count": 1,
   "metadata": {},
   "outputs": [],
   "source": [
    "import gurobipy as gp"
   ]
  },
  {
   "cell_type": "code",
   "execution_count": 2,
   "metadata": {},
   "outputs": [],
   "source": [
    "from gurobipy import GRB"
   ]
  },
  {
   "cell_type": "code",
   "execution_count": 3,
   "metadata": {},
   "outputs": [
    {
     "name": "stdout",
     "output_type": "stream",
     "text": [
      "Using license file C:\\Users\\amand\\gurobi.lic\n",
      "Academic license - for non-commercial use only - expires 2021-01-16\n",
      "Gurobi Optimizer version 9.1.0 build v9.1.0rc0 (win64)\n",
      "Thread count: 2 physical cores, 4 logical processors, using up to 4 threads\n",
      "Optimize a model with 4 rows, 2 columns and 6 nonzeros\n",
      "Model fingerprint: 0x1f60c763\n",
      "Variable types: 0 continuous, 2 integer (0 binary)\n",
      "Coefficient statistics:\n",
      "  Matrix range     [1e+00, 2e+00]\n",
      "  Objective range  [3e+00, 4e+00]\n",
      "  Bounds range     [0e+00, 0e+00]\n",
      "  RHS range        [4e+02, 1e+03]\n",
      "Found heuristic solution: objective 2200.0000000\n",
      "Presolve removed 2 rows and 0 columns\n",
      "Presolve time: 0.00s\n",
      "Presolved: 2 rows, 2 columns, 4 nonzeros\n",
      "Variable types: 0 continuous, 2 integer (0 binary)\n",
      "\n",
      "Root relaxation: objective 2.600000e+03, 2 iterations, 0.12 seconds\n",
      "\n",
      "    Nodes    |    Current Node    |     Objective Bounds      |     Work\n",
      " Expl Unexpl |  Obj  Depth IntInf | Incumbent    BestBd   Gap | It/Node Time\n",
      "\n",
      "*    0     0               0    2600.0000000 2600.00000  0.00%     -    0s\n",
      "\n",
      "Explored 0 nodes (2 simplex iterations) in 0.44 seconds\n",
      "Thread count was 4 (of 4 available processors)\n",
      "\n",
      "Solution count 2: 2600 2200 \n",
      "\n",
      "Optimal solution found (tolerance 1.00e-04)\n",
      "Best objective 2.600000000000e+03, best bound 2.600000000000e+03, gap 0.0000%\n",
      "x 200\n",
      "y 600\n",
      "Obj: 2600\n"
     ]
    }
   ],
   "source": [
    "'''criando o modelo'''\n",
    "\n",
    "m = gp.Model(\"Cintos de Couro\")\n",
    "\n",
    "'''criando as variáveis'''\n",
    "x = m.addVar(vtype=GRB.INTEGER, name=\"x\")\n",
    "y = m.addVar(vtype=GRB.INTEGER, name=\"y\")\n",
    "\n",
    "'''adicionando o objetivo'''\n",
    "m.setObjective(4*x+3*y, GRB.MAXIMIZE)\n",
    "\n",
    "'''restriçãox + y >= 1'''\n",
    "m.addConstr(2 * x + y <= 1000, \"c0\")\n",
    "m.addConstr(x + y <= 800, \"c1\")\n",
    "\n",
    "''' restrição: x + y >= 1'''\n",
    "m.addConstr(x <= 400, \"c2\")\n",
    "m.addConstr(y <= 700, \"c3\")\n",
    "\n",
    "m.optimize()\n",
    "\n",
    "for v in m.getVars():\n",
    "    print('%s %g' % (v.varName, v.x))\n",
    "\n",
    "print('Obj: %g' % m.objVal)\n"
   ]
  },
  {
   "cell_type": "code",
   "execution_count": null,
   "metadata": {},
   "outputs": [],
   "source": []
  }
 ],
 "metadata": {
  "kernelspec": {
   "display_name": "Python 3",
   "language": "python",
   "name": "python3"
  },
  "language_info": {
   "codemirror_mode": {
    "name": "ipython",
    "version": 3
   },
   "file_extension": ".py",
   "mimetype": "text/x-python",
   "name": "python",
   "nbconvert_exporter": "python",
   "pygments_lexer": "ipython3",
   "version": "3.8.3"
  }
 },
 "nbformat": 4,
 "nbformat_minor": 4
}
